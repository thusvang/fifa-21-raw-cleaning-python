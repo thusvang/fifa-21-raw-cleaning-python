{
 "cells": [
  {
   "cell_type": "markdown",
   "id": "98b14d45",
   "metadata": {},
   "source": [
    "Import libraries"
   ]
  },
  {
   "cell_type": "code",
   "execution_count": 103,
   "id": "1f4f8798",
   "metadata": {},
   "outputs": [],
   "source": [
    "import pandas as pd\n",
    "import numpy as np"
   ]
  },
  {
   "cell_type": "markdown",
   "id": "287d0eb1",
   "metadata": {},
   "source": [
    "Data Cleaning"
   ]
  },
  {
   "cell_type": "code",
   "execution_count": 104,
   "id": "5510caf4",
   "metadata": {},
   "outputs": [
    {
     "name": "stderr",
     "output_type": "stream",
     "text": [
      "C:\\Users\\Thus\\AppData\\Local\\Temp\\ipykernel_18384\\2975306374.py:2: DtypeWarning: Columns (76) have mixed types. Specify dtype option on import or set low_memory=False.\n",
      "  data = pd.read_csv(filepath)\n"
     ]
    },
    {
     "data": {
      "application/vnd.microsoft.datawrangler.viewer.v0+json": {
       "columns": [
        {
         "name": "index",
         "rawType": "int64",
         "type": "integer"
        },
        {
         "name": "ID",
         "rawType": "int64",
         "type": "integer"
        },
        {
         "name": "Name",
         "rawType": "object",
         "type": "string"
        },
        {
         "name": "LongName",
         "rawType": "object",
         "type": "string"
        },
        {
         "name": "photoUrl",
         "rawType": "object",
         "type": "string"
        },
        {
         "name": "playerUrl",
         "rawType": "object",
         "type": "string"
        },
        {
         "name": "Nationality",
         "rawType": "object",
         "type": "string"
        },
        {
         "name": "Age",
         "rawType": "int64",
         "type": "integer"
        },
        {
         "name": "↓OVA",
         "rawType": "int64",
         "type": "integer"
        },
        {
         "name": "POT",
         "rawType": "int64",
         "type": "integer"
        },
        {
         "name": "Club",
         "rawType": "object",
         "type": "string"
        },
        {
         "name": "Contract",
         "rawType": "object",
         "type": "string"
        },
        {
         "name": "Positions",
         "rawType": "object",
         "type": "string"
        },
        {
         "name": "Height",
         "rawType": "object",
         "type": "string"
        },
        {
         "name": "Weight",
         "rawType": "object",
         "type": "string"
        },
        {
         "name": "Preferred Foot",
         "rawType": "object",
         "type": "string"
        },
        {
         "name": "BOV",
         "rawType": "int64",
         "type": "integer"
        },
        {
         "name": "Best Position",
         "rawType": "object",
         "type": "string"
        },
        {
         "name": "Joined",
         "rawType": "object",
         "type": "string"
        },
        {
         "name": "Loan Date End",
         "rawType": "object",
         "type": "unknown"
        },
        {
         "name": "Value",
         "rawType": "object",
         "type": "string"
        },
        {
         "name": "Wage",
         "rawType": "object",
         "type": "string"
        },
        {
         "name": "Release Clause",
         "rawType": "object",
         "type": "string"
        },
        {
         "name": "Attacking",
         "rawType": "int64",
         "type": "integer"
        },
        {
         "name": "Crossing",
         "rawType": "int64",
         "type": "integer"
        },
        {
         "name": "Finishing",
         "rawType": "int64",
         "type": "integer"
        },
        {
         "name": "Heading Accuracy",
         "rawType": "int64",
         "type": "integer"
        },
        {
         "name": "Short Passing",
         "rawType": "int64",
         "type": "integer"
        },
        {
         "name": "Volleys",
         "rawType": "int64",
         "type": "integer"
        },
        {
         "name": "Skill",
         "rawType": "int64",
         "type": "integer"
        },
        {
         "name": "Dribbling",
         "rawType": "int64",
         "type": "integer"
        },
        {
         "name": "Curve",
         "rawType": "int64",
         "type": "integer"
        },
        {
         "name": "FK Accuracy",
         "rawType": "int64",
         "type": "integer"
        },
        {
         "name": "Long Passing",
         "rawType": "int64",
         "type": "integer"
        },
        {
         "name": "Ball Control",
         "rawType": "int64",
         "type": "integer"
        },
        {
         "name": "Movement",
         "rawType": "int64",
         "type": "integer"
        },
        {
         "name": "Acceleration",
         "rawType": "int64",
         "type": "integer"
        },
        {
         "name": "Sprint Speed",
         "rawType": "int64",
         "type": "integer"
        },
        {
         "name": "Agility",
         "rawType": "int64",
         "type": "integer"
        },
        {
         "name": "Reactions",
         "rawType": "int64",
         "type": "integer"
        },
        {
         "name": "Balance",
         "rawType": "int64",
         "type": "integer"
        },
        {
         "name": "Power",
         "rawType": "int64",
         "type": "integer"
        },
        {
         "name": "Shot Power",
         "rawType": "int64",
         "type": "integer"
        },
        {
         "name": "Jumping",
         "rawType": "int64",
         "type": "integer"
        },
        {
         "name": "Stamina",
         "rawType": "int64",
         "type": "integer"
        },
        {
         "name": "Strength",
         "rawType": "int64",
         "type": "integer"
        },
        {
         "name": "Long Shots",
         "rawType": "int64",
         "type": "integer"
        },
        {
         "name": "Mentality",
         "rawType": "int64",
         "type": "integer"
        },
        {
         "name": "Aggression",
         "rawType": "int64",
         "type": "integer"
        },
        {
         "name": "Interceptions",
         "rawType": "int64",
         "type": "integer"
        },
        {
         "name": "Positioning",
         "rawType": "int64",
         "type": "integer"
        },
        {
         "name": "Vision",
         "rawType": "int64",
         "type": "integer"
        },
        {
         "name": "Penalties",
         "rawType": "int64",
         "type": "integer"
        },
        {
         "name": "Composure",
         "rawType": "int64",
         "type": "integer"
        },
        {
         "name": "Defending",
         "rawType": "int64",
         "type": "integer"
        },
        {
         "name": "Marking",
         "rawType": "int64",
         "type": "integer"
        },
        {
         "name": "Standing Tackle",
         "rawType": "int64",
         "type": "integer"
        },
        {
         "name": "Sliding Tackle",
         "rawType": "int64",
         "type": "integer"
        },
        {
         "name": "Goalkeeping",
         "rawType": "int64",
         "type": "integer"
        },
        {
         "name": "GK Diving",
         "rawType": "int64",
         "type": "integer"
        },
        {
         "name": "GK Handling",
         "rawType": "int64",
         "type": "integer"
        },
        {
         "name": "GK Kicking",
         "rawType": "int64",
         "type": "integer"
        },
        {
         "name": "GK Positioning",
         "rawType": "int64",
         "type": "integer"
        },
        {
         "name": "GK Reflexes",
         "rawType": "int64",
         "type": "integer"
        },
        {
         "name": "Total Stats",
         "rawType": "int64",
         "type": "integer"
        },
        {
         "name": "Base Stats",
         "rawType": "int64",
         "type": "integer"
        },
        {
         "name": "W/F",
         "rawType": "object",
         "type": "string"
        },
        {
         "name": "SM",
         "rawType": "object",
         "type": "string"
        },
        {
         "name": "A/W",
         "rawType": "object",
         "type": "string"
        },
        {
         "name": "D/W",
         "rawType": "object",
         "type": "string"
        },
        {
         "name": "IR",
         "rawType": "object",
         "type": "string"
        },
        {
         "name": "PAC",
         "rawType": "int64",
         "type": "integer"
        },
        {
         "name": "SHO",
         "rawType": "int64",
         "type": "integer"
        },
        {
         "name": "PAS",
         "rawType": "int64",
         "type": "integer"
        },
        {
         "name": "DRI",
         "rawType": "int64",
         "type": "integer"
        },
        {
         "name": "DEF",
         "rawType": "int64",
         "type": "integer"
        },
        {
         "name": "PHY",
         "rawType": "int64",
         "type": "integer"
        },
        {
         "name": "Hits",
         "rawType": "object",
         "type": "string"
        }
       ],
       "conversionMethod": "pd.DataFrame",
       "ref": "fd6a1526-bc56-4717-8c6b-9917dd432fde",
       "rows": [
        [
         "0",
         "158023",
         "L. Messi",
         "Lionel Messi",
         "https://cdn.sofifa.com/players/158/023/21_60.png",
         "http://sofifa.com/player/158023/lionel-messi/210006/",
         "Argentina",
         "33",
         "93",
         "93",
         "\n\n\n\nFC Barcelona",
         "2004 ~ 2021",
         "RW, ST, CF",
         "170cm",
         "72kg",
         "Left",
         "93",
         "RW",
         "Jul 1, 2004",
         null,
         "€103.5M",
         "€560K",
         "€138.4M",
         "429",
         "85",
         "95",
         "70",
         "91",
         "88",
         "470",
         "96",
         "93",
         "94",
         "91",
         "96",
         "451",
         "91",
         "80",
         "91",
         "94",
         "95",
         "389",
         "86",
         "68",
         "72",
         "69",
         "94",
         "347",
         "44",
         "40",
         "93",
         "95",
         "75",
         "96",
         "91",
         "32",
         "35",
         "24",
         "54",
         "6",
         "11",
         "15",
         "14",
         "8",
         "2231",
         "466",
         "4 ★",
         "4★",
         "Medium",
         "Low",
         "5 ★",
         "85",
         "92",
         "91",
         "95",
         "38",
         "65",
         "771"
        ],
        [
         "1",
         "20801",
         "Cristiano Ronaldo",
         "C. Ronaldo dos Santos Aveiro",
         "https://cdn.sofifa.com/players/020/801/21_60.png",
         "http://sofifa.com/player/20801/c-ronaldo-dos-santos-aveiro/210006/",
         "Portugal",
         "35",
         "92",
         "92",
         "\n\n\n\nJuventus",
         "2018 ~ 2022",
         "ST, LW",
         "187cm",
         "83kg",
         "Right",
         "92",
         "ST",
         "Jul 10, 2018",
         null,
         "€63M",
         "€220K",
         "€75.9M",
         "437",
         "84",
         "95",
         "90",
         "82",
         "86",
         "414",
         "88",
         "81",
         "76",
         "77",
         "92",
         "431",
         "87",
         "91",
         "87",
         "95",
         "71",
         "444",
         "94",
         "95",
         "84",
         "78",
         "93",
         "353",
         "63",
         "29",
         "95",
         "82",
         "84",
         "95",
         "84",
         "28",
         "32",
         "24",
         "58",
         "7",
         "11",
         "15",
         "14",
         "11",
         "2221",
         "464",
         "4 ★",
         "5★",
         "High",
         "Low",
         "5 ★",
         "89",
         "93",
         "81",
         "89",
         "35",
         "77",
         "562"
        ],
        [
         "2",
         "200389",
         "J. Oblak",
         "Jan Oblak",
         "https://cdn.sofifa.com/players/200/389/21_60.png",
         "http://sofifa.com/player/200389/jan-oblak/210006/",
         "Slovenia",
         "27",
         "91",
         "93",
         "\n\n\n\nAtlético Madrid",
         "2014 ~ 2023",
         "GK",
         "188cm",
         "87kg",
         "Right",
         "91",
         "GK",
         "Jul 16, 2014",
         null,
         "€120M",
         "€125K",
         "€159.4M",
         "95",
         "13",
         "11",
         "15",
         "43",
         "13",
         "109",
         "12",
         "13",
         "14",
         "40",
         "30",
         "307",
         "43",
         "60",
         "67",
         "88",
         "49",
         "268",
         "59",
         "78",
         "41",
         "78",
         "12",
         "140",
         "34",
         "19",
         "11",
         "65",
         "11",
         "68",
         "57",
         "27",
         "12",
         "18",
         "437",
         "87",
         "92",
         "78",
         "90",
         "90",
         "1413",
         "489",
         "3 ★",
         "1★",
         "Medium",
         "Medium",
         "3 ★",
         "87",
         "92",
         "78",
         "90",
         "52",
         "90",
         "150"
        ],
        [
         "3",
         "192985",
         "K. De Bruyne",
         "Kevin De Bruyne",
         "https://cdn.sofifa.com/players/192/985/21_60.png",
         "http://sofifa.com/player/192985/kevin-de-bruyne/210006/",
         "Belgium",
         "29",
         "91",
         "91",
         "\n\n\n\nManchester City",
         "2015 ~ 2023",
         "CAM, CM",
         "181cm",
         "70kg",
         "Right",
         "91",
         "CAM",
         "Aug 30, 2015",
         null,
         "€129M",
         "€370K",
         "€161M",
         "407",
         "94",
         "82",
         "55",
         "94",
         "82",
         "441",
         "88",
         "85",
         "83",
         "93",
         "92",
         "398",
         "77",
         "76",
         "78",
         "91",
         "76",
         "408",
         "91",
         "63",
         "89",
         "74",
         "91",
         "408",
         "76",
         "66",
         "88",
         "94",
         "84",
         "91",
         "186",
         "68",
         "65",
         "53",
         "56",
         "15",
         "13",
         "5",
         "10",
         "13",
         "2304",
         "485",
         "5 ★",
         "4★",
         "High",
         "High",
         "4 ★",
         "76",
         "86",
         "93",
         "88",
         "64",
         "78",
         "207"
        ],
        [
         "4",
         "190871",
         "Neymar Jr",
         "Neymar da Silva Santos Jr.",
         "https://cdn.sofifa.com/players/190/871/21_60.png",
         "http://sofifa.com/player/190871/neymar-da-silva-santos-jr/210006/",
         "Brazil",
         "28",
         "91",
         "91",
         "\n\n\n\nParis Saint-Germain",
         "2017 ~ 2022",
         "LW, CAM",
         "175cm",
         "68kg",
         "Right",
         "91",
         "LW",
         "Aug 3, 2017",
         null,
         "€132M",
         "€270K",
         "€166.5M",
         "408",
         "85",
         "87",
         "62",
         "87",
         "87",
         "448",
         "95",
         "88",
         "89",
         "81",
         "95",
         "453",
         "94",
         "89",
         "96",
         "91",
         "83",
         "357",
         "80",
         "62",
         "81",
         "50",
         "84",
         "356",
         "51",
         "36",
         "87",
         "90",
         "92",
         "93",
         "94",
         "35",
         "30",
         "29",
         "59",
         "9",
         "9",
         "15",
         "15",
         "11",
         "2175",
         "451",
         "5 ★",
         "5★",
         "High",
         "Medium",
         "5 ★",
         "91",
         "85",
         "86",
         "94",
         "36",
         "59",
         "595"
        ]
       ],
       "shape": {
        "columns": 77,
        "rows": 5
       }
      },
      "text/html": [
       "<div>\n",
       "<style scoped>\n",
       "    .dataframe tbody tr th:only-of-type {\n",
       "        vertical-align: middle;\n",
       "    }\n",
       "\n",
       "    .dataframe tbody tr th {\n",
       "        vertical-align: top;\n",
       "    }\n",
       "\n",
       "    .dataframe thead th {\n",
       "        text-align: right;\n",
       "    }\n",
       "</style>\n",
       "<table border=\"1\" class=\"dataframe\">\n",
       "  <thead>\n",
       "    <tr style=\"text-align: right;\">\n",
       "      <th></th>\n",
       "      <th>ID</th>\n",
       "      <th>Name</th>\n",
       "      <th>LongName</th>\n",
       "      <th>photoUrl</th>\n",
       "      <th>playerUrl</th>\n",
       "      <th>Nationality</th>\n",
       "      <th>Age</th>\n",
       "      <th>↓OVA</th>\n",
       "      <th>POT</th>\n",
       "      <th>Club</th>\n",
       "      <th>...</th>\n",
       "      <th>A/W</th>\n",
       "      <th>D/W</th>\n",
       "      <th>IR</th>\n",
       "      <th>PAC</th>\n",
       "      <th>SHO</th>\n",
       "      <th>PAS</th>\n",
       "      <th>DRI</th>\n",
       "      <th>DEF</th>\n",
       "      <th>PHY</th>\n",
       "      <th>Hits</th>\n",
       "    </tr>\n",
       "  </thead>\n",
       "  <tbody>\n",
       "    <tr>\n",
       "      <th>0</th>\n",
       "      <td>158023</td>\n",
       "      <td>L. Messi</td>\n",
       "      <td>Lionel Messi</td>\n",
       "      <td>https://cdn.sofifa.com/players/158/023/21_60.png</td>\n",
       "      <td>http://sofifa.com/player/158023/lionel-messi/2...</td>\n",
       "      <td>Argentina</td>\n",
       "      <td>33</td>\n",
       "      <td>93</td>\n",
       "      <td>93</td>\n",
       "      <td>\\n\\n\\n\\nFC Barcelona</td>\n",
       "      <td>...</td>\n",
       "      <td>Medium</td>\n",
       "      <td>Low</td>\n",
       "      <td>5 ★</td>\n",
       "      <td>85</td>\n",
       "      <td>92</td>\n",
       "      <td>91</td>\n",
       "      <td>95</td>\n",
       "      <td>38</td>\n",
       "      <td>65</td>\n",
       "      <td>771</td>\n",
       "    </tr>\n",
       "    <tr>\n",
       "      <th>1</th>\n",
       "      <td>20801</td>\n",
       "      <td>Cristiano Ronaldo</td>\n",
       "      <td>C. Ronaldo dos Santos Aveiro</td>\n",
       "      <td>https://cdn.sofifa.com/players/020/801/21_60.png</td>\n",
       "      <td>http://sofifa.com/player/20801/c-ronaldo-dos-s...</td>\n",
       "      <td>Portugal</td>\n",
       "      <td>35</td>\n",
       "      <td>92</td>\n",
       "      <td>92</td>\n",
       "      <td>\\n\\n\\n\\nJuventus</td>\n",
       "      <td>...</td>\n",
       "      <td>High</td>\n",
       "      <td>Low</td>\n",
       "      <td>5 ★</td>\n",
       "      <td>89</td>\n",
       "      <td>93</td>\n",
       "      <td>81</td>\n",
       "      <td>89</td>\n",
       "      <td>35</td>\n",
       "      <td>77</td>\n",
       "      <td>562</td>\n",
       "    </tr>\n",
       "    <tr>\n",
       "      <th>2</th>\n",
       "      <td>200389</td>\n",
       "      <td>J. Oblak</td>\n",
       "      <td>Jan Oblak</td>\n",
       "      <td>https://cdn.sofifa.com/players/200/389/21_60.png</td>\n",
       "      <td>http://sofifa.com/player/200389/jan-oblak/210006/</td>\n",
       "      <td>Slovenia</td>\n",
       "      <td>27</td>\n",
       "      <td>91</td>\n",
       "      <td>93</td>\n",
       "      <td>\\n\\n\\n\\nAtlético Madrid</td>\n",
       "      <td>...</td>\n",
       "      <td>Medium</td>\n",
       "      <td>Medium</td>\n",
       "      <td>3 ★</td>\n",
       "      <td>87</td>\n",
       "      <td>92</td>\n",
       "      <td>78</td>\n",
       "      <td>90</td>\n",
       "      <td>52</td>\n",
       "      <td>90</td>\n",
       "      <td>150</td>\n",
       "    </tr>\n",
       "    <tr>\n",
       "      <th>3</th>\n",
       "      <td>192985</td>\n",
       "      <td>K. De Bruyne</td>\n",
       "      <td>Kevin De Bruyne</td>\n",
       "      <td>https://cdn.sofifa.com/players/192/985/21_60.png</td>\n",
       "      <td>http://sofifa.com/player/192985/kevin-de-bruyn...</td>\n",
       "      <td>Belgium</td>\n",
       "      <td>29</td>\n",
       "      <td>91</td>\n",
       "      <td>91</td>\n",
       "      <td>\\n\\n\\n\\nManchester City</td>\n",
       "      <td>...</td>\n",
       "      <td>High</td>\n",
       "      <td>High</td>\n",
       "      <td>4 ★</td>\n",
       "      <td>76</td>\n",
       "      <td>86</td>\n",
       "      <td>93</td>\n",
       "      <td>88</td>\n",
       "      <td>64</td>\n",
       "      <td>78</td>\n",
       "      <td>207</td>\n",
       "    </tr>\n",
       "    <tr>\n",
       "      <th>4</th>\n",
       "      <td>190871</td>\n",
       "      <td>Neymar Jr</td>\n",
       "      <td>Neymar da Silva Santos Jr.</td>\n",
       "      <td>https://cdn.sofifa.com/players/190/871/21_60.png</td>\n",
       "      <td>http://sofifa.com/player/190871/neymar-da-silv...</td>\n",
       "      <td>Brazil</td>\n",
       "      <td>28</td>\n",
       "      <td>91</td>\n",
       "      <td>91</td>\n",
       "      <td>\\n\\n\\n\\nParis Saint-Germain</td>\n",
       "      <td>...</td>\n",
       "      <td>High</td>\n",
       "      <td>Medium</td>\n",
       "      <td>5 ★</td>\n",
       "      <td>91</td>\n",
       "      <td>85</td>\n",
       "      <td>86</td>\n",
       "      <td>94</td>\n",
       "      <td>36</td>\n",
       "      <td>59</td>\n",
       "      <td>595</td>\n",
       "    </tr>\n",
       "  </tbody>\n",
       "</table>\n",
       "<p>5 rows × 77 columns</p>\n",
       "</div>"
      ],
      "text/plain": [
       "       ID               Name                      LongName  \\\n",
       "0  158023           L. Messi                  Lionel Messi   \n",
       "1   20801  Cristiano Ronaldo  C. Ronaldo dos Santos Aveiro   \n",
       "2  200389           J. Oblak                     Jan Oblak   \n",
       "3  192985       K. De Bruyne               Kevin De Bruyne   \n",
       "4  190871          Neymar Jr    Neymar da Silva Santos Jr.   \n",
       "\n",
       "                                           photoUrl  \\\n",
       "0  https://cdn.sofifa.com/players/158/023/21_60.png   \n",
       "1  https://cdn.sofifa.com/players/020/801/21_60.png   \n",
       "2  https://cdn.sofifa.com/players/200/389/21_60.png   \n",
       "3  https://cdn.sofifa.com/players/192/985/21_60.png   \n",
       "4  https://cdn.sofifa.com/players/190/871/21_60.png   \n",
       "\n",
       "                                           playerUrl Nationality  Age  ↓OVA  \\\n",
       "0  http://sofifa.com/player/158023/lionel-messi/2...   Argentina   33    93   \n",
       "1  http://sofifa.com/player/20801/c-ronaldo-dos-s...    Portugal   35    92   \n",
       "2  http://sofifa.com/player/200389/jan-oblak/210006/    Slovenia   27    91   \n",
       "3  http://sofifa.com/player/192985/kevin-de-bruyn...     Belgium   29    91   \n",
       "4  http://sofifa.com/player/190871/neymar-da-silv...      Brazil   28    91   \n",
       "\n",
       "   POT                         Club  ...     A/W     D/W   IR PAC SHO  PAS  \\\n",
       "0   93         \\n\\n\\n\\nFC Barcelona  ...  Medium     Low  5 ★  85  92   91   \n",
       "1   92             \\n\\n\\n\\nJuventus  ...    High     Low  5 ★  89  93   81   \n",
       "2   93      \\n\\n\\n\\nAtlético Madrid  ...  Medium  Medium  3 ★  87  92   78   \n",
       "3   91      \\n\\n\\n\\nManchester City  ...    High    High  4 ★  76  86   93   \n",
       "4   91  \\n\\n\\n\\nParis Saint-Germain  ...    High  Medium  5 ★  91  85   86   \n",
       "\n",
       "  DRI DEF PHY Hits  \n",
       "0  95  38  65  771  \n",
       "1  89  35  77  562  \n",
       "2  90  52  90  150  \n",
       "3  88  64  78  207  \n",
       "4  94  36  59  595  \n",
       "\n",
       "[5 rows x 77 columns]"
      ]
     },
     "execution_count": 104,
     "metadata": {},
     "output_type": "execute_result"
    }
   ],
   "source": [
    "filepath = r'fifa21 raw data v2.csv'\n",
    "data = pd.read_csv(filepath)\n",
    "#Creates copy as to avoid modifying original object\n",
    "df = data.copy()\n",
    "#Preview top 5 rows\n",
    "df.head()"
   ]
  },
  {
   "cell_type": "code",
   "execution_count": 105,
   "id": "56333936",
   "metadata": {},
   "outputs": [
    {
     "data": {
      "application/vnd.microsoft.datawrangler.viewer.v0+json": {
       "columns": [
        {
         "name": "index",
         "rawType": "int64",
         "type": "integer"
        },
        {
         "name": "ID",
         "rawType": "int64",
         "type": "integer"
        },
        {
         "name": "Name",
         "rawType": "object",
         "type": "string"
        },
        {
         "name": "LongName",
         "rawType": "object",
         "type": "string"
        },
        {
         "name": "Nationality",
         "rawType": "object",
         "type": "string"
        },
        {
         "name": "Age",
         "rawType": "int64",
         "type": "integer"
        },
        {
         "name": "ova",
         "rawType": "int64",
         "type": "integer"
        },
        {
         "name": "POT",
         "rawType": "int64",
         "type": "integer"
        },
        {
         "name": "Club",
         "rawType": "object",
         "type": "string"
        },
        {
         "name": "Contract",
         "rawType": "object",
         "type": "string"
        },
        {
         "name": "Positions",
         "rawType": "object",
         "type": "string"
        },
        {
         "name": "height_cm",
         "rawType": "object",
         "type": "string"
        },
        {
         "name": "weight_kg",
         "rawType": "object",
         "type": "string"
        },
        {
         "name": "Preferred Foot",
         "rawType": "object",
         "type": "string"
        },
        {
         "name": "BOV",
         "rawType": "int64",
         "type": "integer"
        },
        {
         "name": "Best Position",
         "rawType": "object",
         "type": "string"
        },
        {
         "name": "Joined",
         "rawType": "object",
         "type": "string"
        },
        {
         "name": "Loan Date End",
         "rawType": "object",
         "type": "unknown"
        },
        {
         "name": "Value",
         "rawType": "object",
         "type": "string"
        },
        {
         "name": "Wage",
         "rawType": "object",
         "type": "string"
        },
        {
         "name": "Release Clause",
         "rawType": "object",
         "type": "string"
        },
        {
         "name": "Attacking",
         "rawType": "int64",
         "type": "integer"
        },
        {
         "name": "Crossing",
         "rawType": "int64",
         "type": "integer"
        },
        {
         "name": "Finishing",
         "rawType": "int64",
         "type": "integer"
        },
        {
         "name": "Heading Accuracy",
         "rawType": "int64",
         "type": "integer"
        },
        {
         "name": "Short Passing",
         "rawType": "int64",
         "type": "integer"
        },
        {
         "name": "Volleys",
         "rawType": "int64",
         "type": "integer"
        },
        {
         "name": "Skill",
         "rawType": "int64",
         "type": "integer"
        },
        {
         "name": "Dribbling",
         "rawType": "int64",
         "type": "integer"
        },
        {
         "name": "Curve",
         "rawType": "int64",
         "type": "integer"
        },
        {
         "name": "free_kick_accuracy",
         "rawType": "int64",
         "type": "integer"
        },
        {
         "name": "Long Passing",
         "rawType": "int64",
         "type": "integer"
        },
        {
         "name": "Ball Control",
         "rawType": "int64",
         "type": "integer"
        },
        {
         "name": "Movement",
         "rawType": "int64",
         "type": "integer"
        },
        {
         "name": "Acceleration",
         "rawType": "int64",
         "type": "integer"
        },
        {
         "name": "Sprint Speed",
         "rawType": "int64",
         "type": "integer"
        },
        {
         "name": "Agility",
         "rawType": "int64",
         "type": "integer"
        },
        {
         "name": "Reactions",
         "rawType": "int64",
         "type": "integer"
        },
        {
         "name": "Balance",
         "rawType": "int64",
         "type": "integer"
        },
        {
         "name": "Power",
         "rawType": "int64",
         "type": "integer"
        },
        {
         "name": "Shot Power",
         "rawType": "int64",
         "type": "integer"
        },
        {
         "name": "Jumping",
         "rawType": "int64",
         "type": "integer"
        },
        {
         "name": "Stamina",
         "rawType": "int64",
         "type": "integer"
        },
        {
         "name": "Strength",
         "rawType": "int64",
         "type": "integer"
        },
        {
         "name": "Long Shots",
         "rawType": "int64",
         "type": "integer"
        },
        {
         "name": "Mentality",
         "rawType": "int64",
         "type": "integer"
        },
        {
         "name": "Aggression",
         "rawType": "int64",
         "type": "integer"
        },
        {
         "name": "Interceptions",
         "rawType": "int64",
         "type": "integer"
        },
        {
         "name": "Positioning",
         "rawType": "int64",
         "type": "integer"
        },
        {
         "name": "Vision",
         "rawType": "int64",
         "type": "integer"
        },
        {
         "name": "Penalties",
         "rawType": "int64",
         "type": "integer"
        },
        {
         "name": "Composure",
         "rawType": "int64",
         "type": "integer"
        },
        {
         "name": "Defending",
         "rawType": "int64",
         "type": "integer"
        },
        {
         "name": "Marking",
         "rawType": "int64",
         "type": "integer"
        },
        {
         "name": "Standing Tackle",
         "rawType": "int64",
         "type": "integer"
        },
        {
         "name": "Sliding Tackle",
         "rawType": "int64",
         "type": "integer"
        },
        {
         "name": "Goalkeeping",
         "rawType": "int64",
         "type": "integer"
        },
        {
         "name": "GK Diving",
         "rawType": "int64",
         "type": "integer"
        },
        {
         "name": "GK Handling",
         "rawType": "int64",
         "type": "integer"
        },
        {
         "name": "GK Kicking",
         "rawType": "int64",
         "type": "integer"
        },
        {
         "name": "GK Positioning",
         "rawType": "int64",
         "type": "integer"
        },
        {
         "name": "GK Reflexes",
         "rawType": "int64",
         "type": "integer"
        },
        {
         "name": "Total Stats",
         "rawType": "int64",
         "type": "integer"
        },
        {
         "name": "Base Stats",
         "rawType": "int64",
         "type": "integer"
        },
        {
         "name": "W/F",
         "rawType": "object",
         "type": "string"
        },
        {
         "name": "SM",
         "rawType": "object",
         "type": "string"
        },
        {
         "name": "A/W",
         "rawType": "object",
         "type": "string"
        },
        {
         "name": "D/W",
         "rawType": "object",
         "type": "string"
        },
        {
         "name": "IR",
         "rawType": "object",
         "type": "string"
        },
        {
         "name": "PAC",
         "rawType": "int64",
         "type": "integer"
        },
        {
         "name": "SHO",
         "rawType": "int64",
         "type": "integer"
        },
        {
         "name": "PAS",
         "rawType": "int64",
         "type": "integer"
        },
        {
         "name": "DRI",
         "rawType": "int64",
         "type": "integer"
        },
        {
         "name": "DEF",
         "rawType": "int64",
         "type": "integer"
        },
        {
         "name": "PHY",
         "rawType": "int64",
         "type": "integer"
        },
        {
         "name": "Hits",
         "rawType": "object",
         "type": "string"
        }
       ],
       "conversionMethod": "pd.DataFrame",
       "ref": "47c900b9-d30d-4040-bd32-777a48ec66f2",
       "rows": [
        [
         "0",
         "158023",
         "L. Messi",
         "Lionel Messi",
         "Argentina",
         "33",
         "93",
         "93",
         "\n\n\n\nFC Barcelona",
         "2004 ~ 2021",
         "RW, ST, CF",
         "170cm",
         "72kg",
         "Left",
         "93",
         "RW",
         "Jul 1, 2004",
         null,
         "€103.5M",
         "€560K",
         "€138.4M",
         "429",
         "85",
         "95",
         "70",
         "91",
         "88",
         "470",
         "96",
         "93",
         "94",
         "91",
         "96",
         "451",
         "91",
         "80",
         "91",
         "94",
         "95",
         "389",
         "86",
         "68",
         "72",
         "69",
         "94",
         "347",
         "44",
         "40",
         "93",
         "95",
         "75",
         "96",
         "91",
         "32",
         "35",
         "24",
         "54",
         "6",
         "11",
         "15",
         "14",
         "8",
         "2231",
         "466",
         "4 ★",
         "4★",
         "Medium",
         "Low",
         "5 ★",
         "85",
         "92",
         "91",
         "95",
         "38",
         "65",
         "771"
        ],
        [
         "1",
         "20801",
         "Cristiano Ronaldo",
         "C. Ronaldo dos Santos Aveiro",
         "Portugal",
         "35",
         "92",
         "92",
         "\n\n\n\nJuventus",
         "2018 ~ 2022",
         "ST, LW",
         "187cm",
         "83kg",
         "Right",
         "92",
         "ST",
         "Jul 10, 2018",
         null,
         "€63M",
         "€220K",
         "€75.9M",
         "437",
         "84",
         "95",
         "90",
         "82",
         "86",
         "414",
         "88",
         "81",
         "76",
         "77",
         "92",
         "431",
         "87",
         "91",
         "87",
         "95",
         "71",
         "444",
         "94",
         "95",
         "84",
         "78",
         "93",
         "353",
         "63",
         "29",
         "95",
         "82",
         "84",
         "95",
         "84",
         "28",
         "32",
         "24",
         "58",
         "7",
         "11",
         "15",
         "14",
         "11",
         "2221",
         "464",
         "4 ★",
         "5★",
         "High",
         "Low",
         "5 ★",
         "89",
         "93",
         "81",
         "89",
         "35",
         "77",
         "562"
        ],
        [
         "2",
         "200389",
         "J. Oblak",
         "Jan Oblak",
         "Slovenia",
         "27",
         "91",
         "93",
         "\n\n\n\nAtlético Madrid",
         "2014 ~ 2023",
         "GK",
         "188cm",
         "87kg",
         "Right",
         "91",
         "GK",
         "Jul 16, 2014",
         null,
         "€120M",
         "€125K",
         "€159.4M",
         "95",
         "13",
         "11",
         "15",
         "43",
         "13",
         "109",
         "12",
         "13",
         "14",
         "40",
         "30",
         "307",
         "43",
         "60",
         "67",
         "88",
         "49",
         "268",
         "59",
         "78",
         "41",
         "78",
         "12",
         "140",
         "34",
         "19",
         "11",
         "65",
         "11",
         "68",
         "57",
         "27",
         "12",
         "18",
         "437",
         "87",
         "92",
         "78",
         "90",
         "90",
         "1413",
         "489",
         "3 ★",
         "1★",
         "Medium",
         "Medium",
         "3 ★",
         "87",
         "92",
         "78",
         "90",
         "52",
         "90",
         "150"
        ],
        [
         "3",
         "192985",
         "K. De Bruyne",
         "Kevin De Bruyne",
         "Belgium",
         "29",
         "91",
         "91",
         "\n\n\n\nManchester City",
         "2015 ~ 2023",
         "CAM, CM",
         "181cm",
         "70kg",
         "Right",
         "91",
         "CAM",
         "Aug 30, 2015",
         null,
         "€129M",
         "€370K",
         "€161M",
         "407",
         "94",
         "82",
         "55",
         "94",
         "82",
         "441",
         "88",
         "85",
         "83",
         "93",
         "92",
         "398",
         "77",
         "76",
         "78",
         "91",
         "76",
         "408",
         "91",
         "63",
         "89",
         "74",
         "91",
         "408",
         "76",
         "66",
         "88",
         "94",
         "84",
         "91",
         "186",
         "68",
         "65",
         "53",
         "56",
         "15",
         "13",
         "5",
         "10",
         "13",
         "2304",
         "485",
         "5 ★",
         "4★",
         "High",
         "High",
         "4 ★",
         "76",
         "86",
         "93",
         "88",
         "64",
         "78",
         "207"
        ],
        [
         "4",
         "190871",
         "Neymar Jr",
         "Neymar da Silva Santos Jr.",
         "Brazil",
         "28",
         "91",
         "91",
         "\n\n\n\nParis Saint-Germain",
         "2017 ~ 2022",
         "LW, CAM",
         "175cm",
         "68kg",
         "Right",
         "91",
         "LW",
         "Aug 3, 2017",
         null,
         "€132M",
         "€270K",
         "€166.5M",
         "408",
         "85",
         "87",
         "62",
         "87",
         "87",
         "448",
         "95",
         "88",
         "89",
         "81",
         "95",
         "453",
         "94",
         "89",
         "96",
         "91",
         "83",
         "357",
         "80",
         "62",
         "81",
         "50",
         "84",
         "356",
         "51",
         "36",
         "87",
         "90",
         "92",
         "93",
         "94",
         "35",
         "30",
         "29",
         "59",
         "9",
         "9",
         "15",
         "15",
         "11",
         "2175",
         "451",
         "5 ★",
         "5★",
         "High",
         "Medium",
         "5 ★",
         "91",
         "85",
         "86",
         "94",
         "36",
         "59",
         "595"
        ]
       ],
       "shape": {
        "columns": 75,
        "rows": 5
       }
      },
      "text/html": [
       "<div>\n",
       "<style scoped>\n",
       "    .dataframe tbody tr th:only-of-type {\n",
       "        vertical-align: middle;\n",
       "    }\n",
       "\n",
       "    .dataframe tbody tr th {\n",
       "        vertical-align: top;\n",
       "    }\n",
       "\n",
       "    .dataframe thead th {\n",
       "        text-align: right;\n",
       "    }\n",
       "</style>\n",
       "<table border=\"1\" class=\"dataframe\">\n",
       "  <thead>\n",
       "    <tr style=\"text-align: right;\">\n",
       "      <th></th>\n",
       "      <th>ID</th>\n",
       "      <th>Name</th>\n",
       "      <th>LongName</th>\n",
       "      <th>Nationality</th>\n",
       "      <th>Age</th>\n",
       "      <th>ova</th>\n",
       "      <th>POT</th>\n",
       "      <th>Club</th>\n",
       "      <th>Contract</th>\n",
       "      <th>Positions</th>\n",
       "      <th>...</th>\n",
       "      <th>A/W</th>\n",
       "      <th>D/W</th>\n",
       "      <th>IR</th>\n",
       "      <th>PAC</th>\n",
       "      <th>SHO</th>\n",
       "      <th>PAS</th>\n",
       "      <th>DRI</th>\n",
       "      <th>DEF</th>\n",
       "      <th>PHY</th>\n",
       "      <th>Hits</th>\n",
       "    </tr>\n",
       "  </thead>\n",
       "  <tbody>\n",
       "    <tr>\n",
       "      <th>0</th>\n",
       "      <td>158023</td>\n",
       "      <td>L. Messi</td>\n",
       "      <td>Lionel Messi</td>\n",
       "      <td>Argentina</td>\n",
       "      <td>33</td>\n",
       "      <td>93</td>\n",
       "      <td>93</td>\n",
       "      <td>\\n\\n\\n\\nFC Barcelona</td>\n",
       "      <td>2004 ~ 2021</td>\n",
       "      <td>RW, ST, CF</td>\n",
       "      <td>...</td>\n",
       "      <td>Medium</td>\n",
       "      <td>Low</td>\n",
       "      <td>5 ★</td>\n",
       "      <td>85</td>\n",
       "      <td>92</td>\n",
       "      <td>91</td>\n",
       "      <td>95</td>\n",
       "      <td>38</td>\n",
       "      <td>65</td>\n",
       "      <td>771</td>\n",
       "    </tr>\n",
       "    <tr>\n",
       "      <th>1</th>\n",
       "      <td>20801</td>\n",
       "      <td>Cristiano Ronaldo</td>\n",
       "      <td>C. Ronaldo dos Santos Aveiro</td>\n",
       "      <td>Portugal</td>\n",
       "      <td>35</td>\n",
       "      <td>92</td>\n",
       "      <td>92</td>\n",
       "      <td>\\n\\n\\n\\nJuventus</td>\n",
       "      <td>2018 ~ 2022</td>\n",
       "      <td>ST, LW</td>\n",
       "      <td>...</td>\n",
       "      <td>High</td>\n",
       "      <td>Low</td>\n",
       "      <td>5 ★</td>\n",
       "      <td>89</td>\n",
       "      <td>93</td>\n",
       "      <td>81</td>\n",
       "      <td>89</td>\n",
       "      <td>35</td>\n",
       "      <td>77</td>\n",
       "      <td>562</td>\n",
       "    </tr>\n",
       "    <tr>\n",
       "      <th>2</th>\n",
       "      <td>200389</td>\n",
       "      <td>J. Oblak</td>\n",
       "      <td>Jan Oblak</td>\n",
       "      <td>Slovenia</td>\n",
       "      <td>27</td>\n",
       "      <td>91</td>\n",
       "      <td>93</td>\n",
       "      <td>\\n\\n\\n\\nAtlético Madrid</td>\n",
       "      <td>2014 ~ 2023</td>\n",
       "      <td>GK</td>\n",
       "      <td>...</td>\n",
       "      <td>Medium</td>\n",
       "      <td>Medium</td>\n",
       "      <td>3 ★</td>\n",
       "      <td>87</td>\n",
       "      <td>92</td>\n",
       "      <td>78</td>\n",
       "      <td>90</td>\n",
       "      <td>52</td>\n",
       "      <td>90</td>\n",
       "      <td>150</td>\n",
       "    </tr>\n",
       "    <tr>\n",
       "      <th>3</th>\n",
       "      <td>192985</td>\n",
       "      <td>K. De Bruyne</td>\n",
       "      <td>Kevin De Bruyne</td>\n",
       "      <td>Belgium</td>\n",
       "      <td>29</td>\n",
       "      <td>91</td>\n",
       "      <td>91</td>\n",
       "      <td>\\n\\n\\n\\nManchester City</td>\n",
       "      <td>2015 ~ 2023</td>\n",
       "      <td>CAM, CM</td>\n",
       "      <td>...</td>\n",
       "      <td>High</td>\n",
       "      <td>High</td>\n",
       "      <td>4 ★</td>\n",
       "      <td>76</td>\n",
       "      <td>86</td>\n",
       "      <td>93</td>\n",
       "      <td>88</td>\n",
       "      <td>64</td>\n",
       "      <td>78</td>\n",
       "      <td>207</td>\n",
       "    </tr>\n",
       "    <tr>\n",
       "      <th>4</th>\n",
       "      <td>190871</td>\n",
       "      <td>Neymar Jr</td>\n",
       "      <td>Neymar da Silva Santos Jr.</td>\n",
       "      <td>Brazil</td>\n",
       "      <td>28</td>\n",
       "      <td>91</td>\n",
       "      <td>91</td>\n",
       "      <td>\\n\\n\\n\\nParis Saint-Germain</td>\n",
       "      <td>2017 ~ 2022</td>\n",
       "      <td>LW, CAM</td>\n",
       "      <td>...</td>\n",
       "      <td>High</td>\n",
       "      <td>Medium</td>\n",
       "      <td>5 ★</td>\n",
       "      <td>91</td>\n",
       "      <td>85</td>\n",
       "      <td>86</td>\n",
       "      <td>94</td>\n",
       "      <td>36</td>\n",
       "      <td>59</td>\n",
       "      <td>595</td>\n",
       "    </tr>\n",
       "  </tbody>\n",
       "</table>\n",
       "<p>5 rows × 75 columns</p>\n",
       "</div>"
      ],
      "text/plain": [
       "       ID               Name                      LongName Nationality  Age  \\\n",
       "0  158023           L. Messi                  Lionel Messi   Argentina   33   \n",
       "1   20801  Cristiano Ronaldo  C. Ronaldo dos Santos Aveiro    Portugal   35   \n",
       "2  200389           J. Oblak                     Jan Oblak    Slovenia   27   \n",
       "3  192985       K. De Bruyne               Kevin De Bruyne     Belgium   29   \n",
       "4  190871          Neymar Jr    Neymar da Silva Santos Jr.      Brazil   28   \n",
       "\n",
       "   ova  POT                         Club     Contract   Positions  ...  \\\n",
       "0   93   93         \\n\\n\\n\\nFC Barcelona  2004 ~ 2021  RW, ST, CF  ...   \n",
       "1   92   92             \\n\\n\\n\\nJuventus  2018 ~ 2022      ST, LW  ...   \n",
       "2   91   93      \\n\\n\\n\\nAtlético Madrid  2014 ~ 2023          GK  ...   \n",
       "3   91   91      \\n\\n\\n\\nManchester City  2015 ~ 2023     CAM, CM  ...   \n",
       "4   91   91  \\n\\n\\n\\nParis Saint-Germain  2017 ~ 2022     LW, CAM  ...   \n",
       "\n",
       "      A/W     D/W   IR  PAC SHO PAS DRI DEF PHY Hits  \n",
       "0  Medium     Low  5 ★   85  92  91  95  38  65  771  \n",
       "1    High     Low  5 ★   89  93  81  89  35  77  562  \n",
       "2  Medium  Medium  3 ★   87  92  78  90  52  90  150  \n",
       "3    High    High  4 ★   76  86  93  88  64  78  207  \n",
       "4    High  Medium  5 ★   91  85  86  94  36  59  595  \n",
       "\n",
       "[5 rows x 75 columns]"
      ]
     },
     "execution_count": 105,
     "metadata": {},
     "output_type": "execute_result"
    }
   ],
   "source": [
    "#rename OVA\n",
    "df = df.rename(columns={\n",
    "    '↓OVA': 'ova',\n",
    "    'Height': 'height_cm',\n",
    "    'Weight': 'weight_kg',\n",
    "    'FK Accuracy': 'free_kick_accuracy'\n",
    "})\n",
    "\n",
    "#Drop unnecessary columns\n",
    "columns_to_drop = ['photoUrl','playerUrl']\n",
    "df = df.drop(columns = columns_to_drop)\n",
    "#Preview top 5 rows\n",
    "df.head()"
   ]
  },
  {
   "cell_type": "code",
   "execution_count": 106,
   "id": "50984624",
   "metadata": {},
   "outputs": [
    {
     "data": {
      "text/plain": [
       "np.int64(0)"
      ]
     },
     "execution_count": 106,
     "metadata": {},
     "output_type": "execute_result"
    }
   ],
   "source": [
    "#Check how many duplicate rows\n",
    "df.duplicated().sum()"
   ]
  },
  {
   "cell_type": "code",
   "execution_count": 107,
   "id": "e7d9d5eb",
   "metadata": {},
   "outputs": [],
   "source": [
    "#Drop duplicate rows and then recheck\n",
    "#df = df.drop_duplicates()\n",
    "#df.duplicated().sum()"
   ]
  },
  {
   "cell_type": "code",
   "execution_count": 108,
   "id": "418725bc",
   "metadata": {},
   "outputs": [
    {
     "data": {
      "text/plain": [
       "ID                0\n",
       "Name              0\n",
       "LongName          0\n",
       "Nationality       0\n",
       "Age               0\n",
       "               ... \n",
       "PAS               0\n",
       "DRI               0\n",
       "DEF               0\n",
       "PHY               0\n",
       "Hits           2595\n",
       "Length: 75, dtype: int64"
      ]
     },
     "execution_count": 108,
     "metadata": {},
     "output_type": "execute_result"
    }
   ],
   "source": [
    "#check how many cells there are without values\n",
    "df.isnull().sum()"
   ]
  },
  {
   "cell_type": "code",
   "execution_count": 109,
   "id": "d4d0d339",
   "metadata": {},
   "outputs": [
    {
     "data": {
      "text/plain": [
       "ID             0\n",
       "Name           0\n",
       "LongName       0\n",
       "Nationality    0\n",
       "Age            0\n",
       "              ..\n",
       "PAS            0\n",
       "DRI            0\n",
       "DEF            0\n",
       "PHY            0\n",
       "Hits           0\n",
       "Length: 75, dtype: int64"
      ]
     },
     "execution_count": 109,
     "metadata": {},
     "output_type": "execute_result"
    }
   ],
   "source": [
    "#replaces cells with null values in Hits column with a 0\n",
    "df['Hits'] = df['Hits'].fillna(0)\n",
    "df.isnull().sum()"
   ]
  },
  {
   "cell_type": "code",
   "execution_count": 110,
   "id": "fc17d277",
   "metadata": {},
   "outputs": [
    {
     "data": {
      "text/plain": [
       "0           FC Barcelona\n",
       "1               Juventus\n",
       "2        Atlético Madrid\n",
       "3        Manchester City\n",
       "4    Paris Saint-Germain\n",
       "Name: Club, dtype: object"
      ]
     },
     "execution_count": 110,
     "metadata": {},
     "output_type": "execute_result"
    }
   ],
   "source": [
    "#remove white space from club column. Saw quite a bit looking at raw data in csv\n",
    "df['Club'] = df['Club'].str.strip()\n",
    "df['Club'].head()"
   ]
  },
  {
   "cell_type": "code",
   "execution_count": 111,
   "id": "18880572",
   "metadata": {},
   "outputs": [
    {
     "data": {
      "text/plain": [
       "0        170.0\n",
       "1        187.0\n",
       "2        188.0\n",
       "3        181.0\n",
       "4        175.0\n",
       "         ...  \n",
       "18974    178.0\n",
       "18975    175.0\n",
       "18976    179.0\n",
       "18977    175.0\n",
       "18978    188.0\n",
       "Name: height_cm, Length: 18979, dtype: float64"
      ]
     },
     "execution_count": 111,
     "metadata": {},
     "output_type": "execute_result"
    }
   ],
   "source": [
    "# Function to convert feet and inches to centimeters\n",
    "def feet_inch_to_cm(height):\n",
    "    if isinstance(height, str) and \"'\" in height and \"\\\"\" in height:  # Check if it's in 'ft' 'in' format\n",
    "        feet, inches = height.split(\"'\")\n",
    "        inches = inches.replace(\"\\\"\", \"\")  # Remove the double quote\n",
    "        total_cm = (int(feet) * 30.48) + (int(inches) * 2.54)\n",
    "        return total_cm\n",
    "    return height  # If already in cm or other format, leave it unchanged\n",
    "# Clean the 'Height' column, call function\n",
    "df['height_cm'] = df['height_cm'].apply(lambda x: feet_inch_to_cm(x) if 'cm' not in str(x) else float(x.replace('cm', '')))\n",
    "#rename column\n",
    "df['height_cm']"
   ]
  },
  {
   "cell_type": "code",
   "execution_count": 112,
   "id": "4ef78f33",
   "metadata": {},
   "outputs": [
    {
     "data": {
      "text/plain": [
       "0        72.0\n",
       "1        83.0\n",
       "2        87.0\n",
       "3        70.0\n",
       "4        68.0\n",
       "         ... \n",
       "18974    66.0\n",
       "18975    65.0\n",
       "18976    74.0\n",
       "18977    69.0\n",
       "18978    75.0\n",
       "Name: weight_kg, Length: 18979, dtype: float64"
      ]
     },
     "execution_count": 112,
     "metadata": {},
     "output_type": "execute_result"
    }
   ],
   "source": [
    "def convert_weight_to_kg(value):\n",
    "    if 'lbs' in value:\n",
    "        # Convert pounds to kilograms (1 lb = 0.453592 kg)\n",
    "        weight_in_kg = float(value.replace('lbs', '').strip()) * 0.453592\n",
    "        return weight_in_kg\n",
    "    elif 'kg' in value:\n",
    "        # Extract the value as is for kilograms\n",
    "        weight_in_kg = float(value.replace('kg', '').strip())\n",
    "        return weight_in_kg\n",
    "    else:\n",
    "        return None  # Handle missing or invalid units\n",
    "# Apply the function to the Weight column\n",
    "df['weight_kg'] = df['weight_kg'].apply(convert_weight_to_kg)\n",
    "#rename column\n",
    "df['weight_kg']"
   ]
  },
  {
   "cell_type": "code",
   "execution_count": 113,
   "id": "79d0beda",
   "metadata": {},
   "outputs": [
    {
     "data": {
      "application/vnd.microsoft.datawrangler.viewer.v0+json": {
       "columns": [
        {
         "name": "index",
         "rawType": "int64",
         "type": "integer"
        },
        {
         "name": "Value",
         "rawType": "object",
         "type": "string"
        },
        {
         "name": "Wage",
         "rawType": "object",
         "type": "string"
        },
        {
         "name": "Release Clause",
         "rawType": "object",
         "type": "string"
        }
       ],
       "conversionMethod": "pd.DataFrame",
       "ref": "416a36b9-1732-49ae-936b-74a730b90bd4",
       "rows": [
        [
         "0",
         "€103.5M",
         "€560K",
         "€138.4M"
        ],
        [
         "1",
         "€63M",
         "€220K",
         "€75.9M"
        ],
        [
         "2",
         "€120M",
         "€125K",
         "€159.4M"
        ],
        [
         "3",
         "€129M",
         "€370K",
         "€161M"
        ],
        [
         "4",
         "€132M",
         "€270K",
         "€166.5M"
        ]
       ],
       "shape": {
        "columns": 3,
        "rows": 5
       }
      },
      "text/html": [
       "<div>\n",
       "<style scoped>\n",
       "    .dataframe tbody tr th:only-of-type {\n",
       "        vertical-align: middle;\n",
       "    }\n",
       "\n",
       "    .dataframe tbody tr th {\n",
       "        vertical-align: top;\n",
       "    }\n",
       "\n",
       "    .dataframe thead th {\n",
       "        text-align: right;\n",
       "    }\n",
       "</style>\n",
       "<table border=\"1\" class=\"dataframe\">\n",
       "  <thead>\n",
       "    <tr style=\"text-align: right;\">\n",
       "      <th></th>\n",
       "      <th>Value</th>\n",
       "      <th>Wage</th>\n",
       "      <th>Release Clause</th>\n",
       "    </tr>\n",
       "  </thead>\n",
       "  <tbody>\n",
       "    <tr>\n",
       "      <th>0</th>\n",
       "      <td>€103.5M</td>\n",
       "      <td>€560K</td>\n",
       "      <td>€138.4M</td>\n",
       "    </tr>\n",
       "    <tr>\n",
       "      <th>1</th>\n",
       "      <td>€63M</td>\n",
       "      <td>€220K</td>\n",
       "      <td>€75.9M</td>\n",
       "    </tr>\n",
       "    <tr>\n",
       "      <th>2</th>\n",
       "      <td>€120M</td>\n",
       "      <td>€125K</td>\n",
       "      <td>€159.4M</td>\n",
       "    </tr>\n",
       "    <tr>\n",
       "      <th>3</th>\n",
       "      <td>€129M</td>\n",
       "      <td>€370K</td>\n",
       "      <td>€161M</td>\n",
       "    </tr>\n",
       "    <tr>\n",
       "      <th>4</th>\n",
       "      <td>€132M</td>\n",
       "      <td>€270K</td>\n",
       "      <td>€166.5M</td>\n",
       "    </tr>\n",
       "  </tbody>\n",
       "</table>\n",
       "</div>"
      ],
      "text/plain": [
       "     Value   Wage Release Clause\n",
       "0  €103.5M  €560K        €138.4M\n",
       "1     €63M  €220K         €75.9M\n",
       "2    €120M  €125K        €159.4M\n",
       "3    €129M  €370K          €161M\n",
       "4    €132M  €270K        €166.5M"
      ]
     },
     "execution_count": 113,
     "metadata": {},
     "output_type": "execute_result"
    }
   ],
   "source": [
    "df[['Value', 'Wage', 'Release Clause']].head()"
   ]
  },
  {
   "cell_type": "code",
   "execution_count": 114,
   "id": "a694bd20",
   "metadata": {},
   "outputs": [
    {
     "data": {
      "application/vnd.microsoft.datawrangler.viewer.v0+json": {
       "columns": [
        {
         "name": "index",
         "rawType": "int64",
         "type": "integer"
        },
        {
         "name": "value_euro",
         "rawType": "float64",
         "type": "float"
        },
        {
         "name": "wage_euro",
         "rawType": "float64",
         "type": "float"
        },
        {
         "name": "release_clause_euro",
         "rawType": "float64",
         "type": "float"
        }
       ],
       "conversionMethod": "pd.DataFrame",
       "ref": "1f18e518-460b-4347-80a8-53f9939c7ee0",
       "rows": [
        [
         "0",
         "103500000.0",
         "560000.0",
         "138400000.0"
        ],
        [
         "1",
         "63000000.0",
         "220000.0",
         "75900000.0"
        ],
        [
         "2",
         "120000000.0",
         "125000.0",
         "159400000.0"
        ],
        [
         "3",
         "129000000.0",
         "370000.0",
         "161000000.0"
        ],
        [
         "4",
         "132000000.0",
         "270000.0",
         "166500000.0"
        ]
       ],
       "shape": {
        "columns": 3,
        "rows": 5
       }
      },
      "text/html": [
       "<div>\n",
       "<style scoped>\n",
       "    .dataframe tbody tr th:only-of-type {\n",
       "        vertical-align: middle;\n",
       "    }\n",
       "\n",
       "    .dataframe tbody tr th {\n",
       "        vertical-align: top;\n",
       "    }\n",
       "\n",
       "    .dataframe thead th {\n",
       "        text-align: right;\n",
       "    }\n",
       "</style>\n",
       "<table border=\"1\" class=\"dataframe\">\n",
       "  <thead>\n",
       "    <tr style=\"text-align: right;\">\n",
       "      <th></th>\n",
       "      <th>value_euro</th>\n",
       "      <th>wage_euro</th>\n",
       "      <th>release_clause_euro</th>\n",
       "    </tr>\n",
       "  </thead>\n",
       "  <tbody>\n",
       "    <tr>\n",
       "      <th>0</th>\n",
       "      <td>103500000.0</td>\n",
       "      <td>560000.0</td>\n",
       "      <td>138400000.0</td>\n",
       "    </tr>\n",
       "    <tr>\n",
       "      <th>1</th>\n",
       "      <td>63000000.0</td>\n",
       "      <td>220000.0</td>\n",
       "      <td>75900000.0</td>\n",
       "    </tr>\n",
       "    <tr>\n",
       "      <th>2</th>\n",
       "      <td>120000000.0</td>\n",
       "      <td>125000.0</td>\n",
       "      <td>159400000.0</td>\n",
       "    </tr>\n",
       "    <tr>\n",
       "      <th>3</th>\n",
       "      <td>129000000.0</td>\n",
       "      <td>370000.0</td>\n",
       "      <td>161000000.0</td>\n",
       "    </tr>\n",
       "    <tr>\n",
       "      <th>4</th>\n",
       "      <td>132000000.0</td>\n",
       "      <td>270000.0</td>\n",
       "      <td>166500000.0</td>\n",
       "    </tr>\n",
       "  </tbody>\n",
       "</table>\n",
       "</div>"
      ],
      "text/plain": [
       "    value_euro  wage_euro  release_clause_euro\n",
       "0  103500000.0   560000.0          138400000.0\n",
       "1   63000000.0   220000.0           75900000.0\n",
       "2  120000000.0   125000.0          159400000.0\n",
       "3  129000000.0   370000.0          161000000.0\n",
       "4  132000000.0   270000.0          166500000.0"
      ]
     },
     "execution_count": 114,
     "metadata": {},
     "output_type": "execute_result"
    }
   ],
   "source": [
    "#use to fix Value, Wage, and Release Clause, converts nvarchar into float\n",
    "def convert_money(value):\n",
    "    value = value.replace('€', '').replace(',', '')  # Remove euro symbol and commas\n",
    "    \n",
    "    if 'K' in value:\n",
    "        value = float(value.replace('K', '')) * 1_000  # If value has 'K', multiply by 1,000\n",
    "    elif 'M' in value:\n",
    "        value = float(value.replace('M', '')) * 1_000_000  # If value has 'M', multiply by 1,000,000\n",
    "    else:\n",
    "        value = float(value)  # Otherwise, just turn it into a float\n",
    "    \n",
    "    return value\n",
    "\n",
    "df[['Value', 'Wage', 'Release Clause']] = df[['Value', 'Wage', 'Release Clause']].apply(lambda col: col.map(convert_money))\n",
    "df = df.rename(columns={\n",
    "    'Value': 'value_euro',\n",
    "    'Wage': 'wage_euro',\n",
    "    'Release Clause': 'release_clause_euro'\n",
    "})\n",
    "df[['value_euro', 'wage_euro', 'release_clause_euro']].head()"
   ]
  },
  {
   "cell_type": "code",
   "execution_count": 115,
   "id": "0039e3cc",
   "metadata": {},
   "outputs": [
    {
     "data": {
      "application/vnd.microsoft.datawrangler.viewer.v0+json": {
       "columns": [
        {
         "name": "index",
         "rawType": "int64",
         "type": "integer"
        },
        {
         "name": "IR",
         "rawType": "int64",
         "type": "integer"
        },
        {
         "name": "SM",
         "rawType": "int64",
         "type": "integer"
        },
        {
         "name": "W/F",
         "rawType": "int64",
         "type": "integer"
        }
       ],
       "conversionMethod": "pd.DataFrame",
       "ref": "353646a4-cdf1-46e2-850d-d6edea6b5d93",
       "rows": [
        [
         "0",
         "5",
         "4",
         "4"
        ],
        [
         "1",
         "5",
         "5",
         "4"
        ],
        [
         "2",
         "3",
         "1",
         "3"
        ],
        [
         "3",
         "4",
         "4",
         "5"
        ],
        [
         "4",
         "5",
         "5",
         "5"
        ]
       ],
       "shape": {
        "columns": 3,
        "rows": 5
       }
      },
      "text/html": [
       "<div>\n",
       "<style scoped>\n",
       "    .dataframe tbody tr th:only-of-type {\n",
       "        vertical-align: middle;\n",
       "    }\n",
       "\n",
       "    .dataframe tbody tr th {\n",
       "        vertical-align: top;\n",
       "    }\n",
       "\n",
       "    .dataframe thead th {\n",
       "        text-align: right;\n",
       "    }\n",
       "</style>\n",
       "<table border=\"1\" class=\"dataframe\">\n",
       "  <thead>\n",
       "    <tr style=\"text-align: right;\">\n",
       "      <th></th>\n",
       "      <th>IR</th>\n",
       "      <th>SM</th>\n",
       "      <th>W/F</th>\n",
       "    </tr>\n",
       "  </thead>\n",
       "  <tbody>\n",
       "    <tr>\n",
       "      <th>0</th>\n",
       "      <td>5</td>\n",
       "      <td>4</td>\n",
       "      <td>4</td>\n",
       "    </tr>\n",
       "    <tr>\n",
       "      <th>1</th>\n",
       "      <td>5</td>\n",
       "      <td>5</td>\n",
       "      <td>4</td>\n",
       "    </tr>\n",
       "    <tr>\n",
       "      <th>2</th>\n",
       "      <td>3</td>\n",
       "      <td>1</td>\n",
       "      <td>3</td>\n",
       "    </tr>\n",
       "    <tr>\n",
       "      <th>3</th>\n",
       "      <td>4</td>\n",
       "      <td>4</td>\n",
       "      <td>5</td>\n",
       "    </tr>\n",
       "    <tr>\n",
       "      <th>4</th>\n",
       "      <td>5</td>\n",
       "      <td>5</td>\n",
       "      <td>5</td>\n",
       "    </tr>\n",
       "  </tbody>\n",
       "</table>\n",
       "</div>"
      ],
      "text/plain": [
       "   IR  SM  W/F\n",
       "0   5   4    4\n",
       "1   5   5    4\n",
       "2   3   1    3\n",
       "3   4   4    5\n",
       "4   5   5    5"
      ]
     },
     "execution_count": 115,
     "metadata": {},
     "output_type": "execute_result"
    }
   ],
   "source": [
    "#Remove star\n",
    "def star_remover(value):\n",
    "  value=value.rstrip('★')\n",
    "  return int(value)\n",
    "\n",
    "df['W/F']=df['W/F'].apply(star_remover)\n",
    "df['SM']=df['SM'].apply(star_remover)\n",
    "df['IR']=df['IR'].apply(star_remover)\n",
    "df[['IR','SM','W/F']].head()"
   ]
  },
  {
   "cell_type": "code",
   "execution_count": 116,
   "id": "ce419884",
   "metadata": {},
   "outputs": [
    {
     "data": {
      "application/vnd.microsoft.datawrangler.viewer.v0+json": {
       "columns": [
        {
         "name": "index",
         "rawType": "int64",
         "type": "integer"
        },
        {
         "name": "ID",
         "rawType": "int64",
         "type": "integer"
        },
        {
         "name": "Name",
         "rawType": "object",
         "type": "string"
        },
        {
         "name": "LongName",
         "rawType": "object",
         "type": "string"
        },
        {
         "name": "Nationality",
         "rawType": "object",
         "type": "string"
        },
        {
         "name": "Age",
         "rawType": "int64",
         "type": "integer"
        },
        {
         "name": "ova",
         "rawType": "int64",
         "type": "integer"
        },
        {
         "name": "POT",
         "rawType": "int64",
         "type": "integer"
        },
        {
         "name": "Club",
         "rawType": "object",
         "type": "string"
        },
        {
         "name": "Contract",
         "rawType": "object",
         "type": "string"
        },
        {
         "name": "Positions",
         "rawType": "object",
         "type": "string"
        },
        {
         "name": "height_cm",
         "rawType": "float64",
         "type": "float"
        },
        {
         "name": "weight_kg",
         "rawType": "float64",
         "type": "float"
        },
        {
         "name": "Preferred Foot",
         "rawType": "object",
         "type": "string"
        },
        {
         "name": "BOV",
         "rawType": "int64",
         "type": "integer"
        },
        {
         "name": "Best Position",
         "rawType": "object",
         "type": "string"
        },
        {
         "name": "Joined",
         "rawType": "object",
         "type": "string"
        },
        {
         "name": "Loan Date End",
         "rawType": "object",
         "type": "unknown"
        },
        {
         "name": "value_euro",
         "rawType": "float64",
         "type": "float"
        },
        {
         "name": "wage_euro",
         "rawType": "float64",
         "type": "float"
        },
        {
         "name": "release_clause_euro",
         "rawType": "float64",
         "type": "float"
        },
        {
         "name": "Attacking",
         "rawType": "int64",
         "type": "integer"
        },
        {
         "name": "Crossing",
         "rawType": "int64",
         "type": "integer"
        },
        {
         "name": "Finishing",
         "rawType": "int64",
         "type": "integer"
        },
        {
         "name": "Heading Accuracy",
         "rawType": "int64",
         "type": "integer"
        },
        {
         "name": "Short Passing",
         "rawType": "int64",
         "type": "integer"
        },
        {
         "name": "Volleys",
         "rawType": "int64",
         "type": "integer"
        },
        {
         "name": "Skill",
         "rawType": "int64",
         "type": "integer"
        },
        {
         "name": "Dribbling",
         "rawType": "int64",
         "type": "integer"
        },
        {
         "name": "Curve",
         "rawType": "int64",
         "type": "integer"
        },
        {
         "name": "free_kick_accuracy",
         "rawType": "int64",
         "type": "integer"
        },
        {
         "name": "Long Passing",
         "rawType": "int64",
         "type": "integer"
        },
        {
         "name": "Ball Control",
         "rawType": "int64",
         "type": "integer"
        },
        {
         "name": "Movement",
         "rawType": "int64",
         "type": "integer"
        },
        {
         "name": "Acceleration",
         "rawType": "int64",
         "type": "integer"
        },
        {
         "name": "Sprint Speed",
         "rawType": "int64",
         "type": "integer"
        },
        {
         "name": "Agility",
         "rawType": "int64",
         "type": "integer"
        },
        {
         "name": "Reactions",
         "rawType": "int64",
         "type": "integer"
        },
        {
         "name": "Balance",
         "rawType": "int64",
         "type": "integer"
        },
        {
         "name": "Power",
         "rawType": "int64",
         "type": "integer"
        },
        {
         "name": "Shot Power",
         "rawType": "int64",
         "type": "integer"
        },
        {
         "name": "Jumping",
         "rawType": "int64",
         "type": "integer"
        },
        {
         "name": "Stamina",
         "rawType": "int64",
         "type": "integer"
        },
        {
         "name": "Strength",
         "rawType": "int64",
         "type": "integer"
        },
        {
         "name": "Long Shots",
         "rawType": "int64",
         "type": "integer"
        },
        {
         "name": "Mentality",
         "rawType": "int64",
         "type": "integer"
        },
        {
         "name": "Aggression",
         "rawType": "int64",
         "type": "integer"
        },
        {
         "name": "Interceptions",
         "rawType": "int64",
         "type": "integer"
        },
        {
         "name": "Positioning",
         "rawType": "int64",
         "type": "integer"
        },
        {
         "name": "Vision",
         "rawType": "int64",
         "type": "integer"
        },
        {
         "name": "Penalties",
         "rawType": "int64",
         "type": "integer"
        },
        {
         "name": "Composure",
         "rawType": "int64",
         "type": "integer"
        },
        {
         "name": "Defending",
         "rawType": "int64",
         "type": "integer"
        },
        {
         "name": "Marking",
         "rawType": "int64",
         "type": "integer"
        },
        {
         "name": "Standing Tackle",
         "rawType": "int64",
         "type": "integer"
        },
        {
         "name": "Sliding Tackle",
         "rawType": "int64",
         "type": "integer"
        },
        {
         "name": "Goalkeeping",
         "rawType": "int64",
         "type": "integer"
        },
        {
         "name": "GK Diving",
         "rawType": "int64",
         "type": "integer"
        },
        {
         "name": "GK Handling",
         "rawType": "int64",
         "type": "integer"
        },
        {
         "name": "GK Kicking",
         "rawType": "int64",
         "type": "integer"
        },
        {
         "name": "GK Positioning",
         "rawType": "int64",
         "type": "integer"
        },
        {
         "name": "GK Reflexes",
         "rawType": "int64",
         "type": "integer"
        },
        {
         "name": "Total Stats",
         "rawType": "int64",
         "type": "integer"
        },
        {
         "name": "Base Stats",
         "rawType": "int64",
         "type": "integer"
        },
        {
         "name": "W/F",
         "rawType": "int64",
         "type": "integer"
        },
        {
         "name": "SM",
         "rawType": "int64",
         "type": "integer"
        },
        {
         "name": "A/W",
         "rawType": "object",
         "type": "string"
        },
        {
         "name": "D/W",
         "rawType": "object",
         "type": "string"
        },
        {
         "name": "IR",
         "rawType": "int64",
         "type": "integer"
        },
        {
         "name": "PAC",
         "rawType": "int64",
         "type": "integer"
        },
        {
         "name": "SHO",
         "rawType": "int64",
         "type": "integer"
        },
        {
         "name": "PAS",
         "rawType": "int64",
         "type": "integer"
        },
        {
         "name": "DRI",
         "rawType": "int64",
         "type": "integer"
        },
        {
         "name": "DEF",
         "rawType": "int64",
         "type": "integer"
        },
        {
         "name": "PHY",
         "rawType": "int64",
         "type": "integer"
        },
        {
         "name": "Hits",
         "rawType": "object",
         "type": "string"
        }
       ],
       "conversionMethod": "pd.DataFrame",
       "ref": "3f7c2769-b604-40c8-ad5c-16294815584c",
       "rows": [
        [
         "0",
         "158023",
         "L. Messi",
         "Lionel Messi",
         "Argentina",
         "33",
         "93",
         "93",
         "FC Barcelona",
         "2004 ~ 2021",
         "RW, ST, CF",
         "170.0",
         "72.0",
         "Left",
         "93",
         "RW",
         "Jul 1, 2004",
         null,
         "103500000.0",
         "560000.0",
         "138400000.0",
         "429",
         "85",
         "95",
         "70",
         "91",
         "88",
         "470",
         "96",
         "93",
         "94",
         "91",
         "96",
         "451",
         "91",
         "80",
         "91",
         "94",
         "95",
         "389",
         "86",
         "68",
         "72",
         "69",
         "94",
         "347",
         "44",
         "40",
         "93",
         "95",
         "75",
         "96",
         "91",
         "32",
         "35",
         "24",
         "54",
         "6",
         "11",
         "15",
         "14",
         "8",
         "2231",
         "466",
         "4",
         "4",
         "Medium",
         "Low",
         "5",
         "85",
         "92",
         "91",
         "95",
         "38",
         "65",
         "771"
        ],
        [
         "1",
         "20801",
         "Cristiano Ronaldo",
         "C. Ronaldo dos Santos Aveiro",
         "Portugal",
         "35",
         "92",
         "92",
         "Juventus",
         "2018 ~ 2022",
         "ST, LW",
         "187.0",
         "83.0",
         "Right",
         "92",
         "ST",
         "Jul 10, 2018",
         null,
         "63000000.0",
         "220000.0",
         "75900000.0",
         "437",
         "84",
         "95",
         "90",
         "82",
         "86",
         "414",
         "88",
         "81",
         "76",
         "77",
         "92",
         "431",
         "87",
         "91",
         "87",
         "95",
         "71",
         "444",
         "94",
         "95",
         "84",
         "78",
         "93",
         "353",
         "63",
         "29",
         "95",
         "82",
         "84",
         "95",
         "84",
         "28",
         "32",
         "24",
         "58",
         "7",
         "11",
         "15",
         "14",
         "11",
         "2221",
         "464",
         "4",
         "5",
         "High",
         "Low",
         "5",
         "89",
         "93",
         "81",
         "89",
         "35",
         "77",
         "562"
        ],
        [
         "2",
         "200389",
         "J. Oblak",
         "Jan Oblak",
         "Slovenia",
         "27",
         "91",
         "93",
         "Atlético Madrid",
         "2014 ~ 2023",
         "GK",
         "188.0",
         "87.0",
         "Right",
         "91",
         "GK",
         "Jul 16, 2014",
         null,
         "120000000.0",
         "125000.0",
         "159400000.0",
         "95",
         "13",
         "11",
         "15",
         "43",
         "13",
         "109",
         "12",
         "13",
         "14",
         "40",
         "30",
         "307",
         "43",
         "60",
         "67",
         "88",
         "49",
         "268",
         "59",
         "78",
         "41",
         "78",
         "12",
         "140",
         "34",
         "19",
         "11",
         "65",
         "11",
         "68",
         "57",
         "27",
         "12",
         "18",
         "437",
         "87",
         "92",
         "78",
         "90",
         "90",
         "1413",
         "489",
         "3",
         "1",
         "Medium",
         "Medium",
         "3",
         "87",
         "92",
         "78",
         "90",
         "52",
         "90",
         "150"
        ],
        [
         "3",
         "192985",
         "K. De Bruyne",
         "Kevin De Bruyne",
         "Belgium",
         "29",
         "91",
         "91",
         "Manchester City",
         "2015 ~ 2023",
         "CAM, CM",
         "181.0",
         "70.0",
         "Right",
         "91",
         "CAM",
         "Aug 30, 2015",
         null,
         "129000000.0",
         "370000.0",
         "161000000.0",
         "407",
         "94",
         "82",
         "55",
         "94",
         "82",
         "441",
         "88",
         "85",
         "83",
         "93",
         "92",
         "398",
         "77",
         "76",
         "78",
         "91",
         "76",
         "408",
         "91",
         "63",
         "89",
         "74",
         "91",
         "408",
         "76",
         "66",
         "88",
         "94",
         "84",
         "91",
         "186",
         "68",
         "65",
         "53",
         "56",
         "15",
         "13",
         "5",
         "10",
         "13",
         "2304",
         "485",
         "5",
         "4",
         "High",
         "High",
         "4",
         "76",
         "86",
         "93",
         "88",
         "64",
         "78",
         "207"
        ],
        [
         "4",
         "190871",
         "Neymar Jr",
         "Neymar da Silva Santos Jr.",
         "Brazil",
         "28",
         "91",
         "91",
         "Paris Saint-Germain",
         "2017 ~ 2022",
         "LW, CAM",
         "175.0",
         "68.0",
         "Right",
         "91",
         "LW",
         "Aug 3, 2017",
         null,
         "132000000.0",
         "270000.0",
         "166500000.0",
         "408",
         "85",
         "87",
         "62",
         "87",
         "87",
         "448",
         "95",
         "88",
         "89",
         "81",
         "95",
         "453",
         "94",
         "89",
         "96",
         "91",
         "83",
         "357",
         "80",
         "62",
         "81",
         "50",
         "84",
         "356",
         "51",
         "36",
         "87",
         "90",
         "92",
         "93",
         "94",
         "35",
         "30",
         "29",
         "59",
         "9",
         "9",
         "15",
         "15",
         "11",
         "2175",
         "451",
         "5",
         "5",
         "High",
         "Medium",
         "5",
         "91",
         "85",
         "86",
         "94",
         "36",
         "59",
         "595"
        ]
       ],
       "shape": {
        "columns": 75,
        "rows": 5
       }
      },
      "text/html": [
       "<div>\n",
       "<style scoped>\n",
       "    .dataframe tbody tr th:only-of-type {\n",
       "        vertical-align: middle;\n",
       "    }\n",
       "\n",
       "    .dataframe tbody tr th {\n",
       "        vertical-align: top;\n",
       "    }\n",
       "\n",
       "    .dataframe thead th {\n",
       "        text-align: right;\n",
       "    }\n",
       "</style>\n",
       "<table border=\"1\" class=\"dataframe\">\n",
       "  <thead>\n",
       "    <tr style=\"text-align: right;\">\n",
       "      <th></th>\n",
       "      <th>ID</th>\n",
       "      <th>Name</th>\n",
       "      <th>LongName</th>\n",
       "      <th>Nationality</th>\n",
       "      <th>Age</th>\n",
       "      <th>ova</th>\n",
       "      <th>POT</th>\n",
       "      <th>Club</th>\n",
       "      <th>Contract</th>\n",
       "      <th>Positions</th>\n",
       "      <th>...</th>\n",
       "      <th>A/W</th>\n",
       "      <th>D/W</th>\n",
       "      <th>IR</th>\n",
       "      <th>PAC</th>\n",
       "      <th>SHO</th>\n",
       "      <th>PAS</th>\n",
       "      <th>DRI</th>\n",
       "      <th>DEF</th>\n",
       "      <th>PHY</th>\n",
       "      <th>Hits</th>\n",
       "    </tr>\n",
       "  </thead>\n",
       "  <tbody>\n",
       "    <tr>\n",
       "      <th>0</th>\n",
       "      <td>158023</td>\n",
       "      <td>L. Messi</td>\n",
       "      <td>Lionel Messi</td>\n",
       "      <td>Argentina</td>\n",
       "      <td>33</td>\n",
       "      <td>93</td>\n",
       "      <td>93</td>\n",
       "      <td>FC Barcelona</td>\n",
       "      <td>2004 ~ 2021</td>\n",
       "      <td>RW, ST, CF</td>\n",
       "      <td>...</td>\n",
       "      <td>Medium</td>\n",
       "      <td>Low</td>\n",
       "      <td>5</td>\n",
       "      <td>85</td>\n",
       "      <td>92</td>\n",
       "      <td>91</td>\n",
       "      <td>95</td>\n",
       "      <td>38</td>\n",
       "      <td>65</td>\n",
       "      <td>771</td>\n",
       "    </tr>\n",
       "    <tr>\n",
       "      <th>1</th>\n",
       "      <td>20801</td>\n",
       "      <td>Cristiano Ronaldo</td>\n",
       "      <td>C. Ronaldo dos Santos Aveiro</td>\n",
       "      <td>Portugal</td>\n",
       "      <td>35</td>\n",
       "      <td>92</td>\n",
       "      <td>92</td>\n",
       "      <td>Juventus</td>\n",
       "      <td>2018 ~ 2022</td>\n",
       "      <td>ST, LW</td>\n",
       "      <td>...</td>\n",
       "      <td>High</td>\n",
       "      <td>Low</td>\n",
       "      <td>5</td>\n",
       "      <td>89</td>\n",
       "      <td>93</td>\n",
       "      <td>81</td>\n",
       "      <td>89</td>\n",
       "      <td>35</td>\n",
       "      <td>77</td>\n",
       "      <td>562</td>\n",
       "    </tr>\n",
       "    <tr>\n",
       "      <th>2</th>\n",
       "      <td>200389</td>\n",
       "      <td>J. Oblak</td>\n",
       "      <td>Jan Oblak</td>\n",
       "      <td>Slovenia</td>\n",
       "      <td>27</td>\n",
       "      <td>91</td>\n",
       "      <td>93</td>\n",
       "      <td>Atlético Madrid</td>\n",
       "      <td>2014 ~ 2023</td>\n",
       "      <td>GK</td>\n",
       "      <td>...</td>\n",
       "      <td>Medium</td>\n",
       "      <td>Medium</td>\n",
       "      <td>3</td>\n",
       "      <td>87</td>\n",
       "      <td>92</td>\n",
       "      <td>78</td>\n",
       "      <td>90</td>\n",
       "      <td>52</td>\n",
       "      <td>90</td>\n",
       "      <td>150</td>\n",
       "    </tr>\n",
       "    <tr>\n",
       "      <th>3</th>\n",
       "      <td>192985</td>\n",
       "      <td>K. De Bruyne</td>\n",
       "      <td>Kevin De Bruyne</td>\n",
       "      <td>Belgium</td>\n",
       "      <td>29</td>\n",
       "      <td>91</td>\n",
       "      <td>91</td>\n",
       "      <td>Manchester City</td>\n",
       "      <td>2015 ~ 2023</td>\n",
       "      <td>CAM, CM</td>\n",
       "      <td>...</td>\n",
       "      <td>High</td>\n",
       "      <td>High</td>\n",
       "      <td>4</td>\n",
       "      <td>76</td>\n",
       "      <td>86</td>\n",
       "      <td>93</td>\n",
       "      <td>88</td>\n",
       "      <td>64</td>\n",
       "      <td>78</td>\n",
       "      <td>207</td>\n",
       "    </tr>\n",
       "    <tr>\n",
       "      <th>4</th>\n",
       "      <td>190871</td>\n",
       "      <td>Neymar Jr</td>\n",
       "      <td>Neymar da Silva Santos Jr.</td>\n",
       "      <td>Brazil</td>\n",
       "      <td>28</td>\n",
       "      <td>91</td>\n",
       "      <td>91</td>\n",
       "      <td>Paris Saint-Germain</td>\n",
       "      <td>2017 ~ 2022</td>\n",
       "      <td>LW, CAM</td>\n",
       "      <td>...</td>\n",
       "      <td>High</td>\n",
       "      <td>Medium</td>\n",
       "      <td>5</td>\n",
       "      <td>91</td>\n",
       "      <td>85</td>\n",
       "      <td>86</td>\n",
       "      <td>94</td>\n",
       "      <td>36</td>\n",
       "      <td>59</td>\n",
       "      <td>595</td>\n",
       "    </tr>\n",
       "  </tbody>\n",
       "</table>\n",
       "<p>5 rows × 75 columns</p>\n",
       "</div>"
      ],
      "text/plain": [
       "       ID               Name                      LongName Nationality  Age  \\\n",
       "0  158023           L. Messi                  Lionel Messi   Argentina   33   \n",
       "1   20801  Cristiano Ronaldo  C. Ronaldo dos Santos Aveiro    Portugal   35   \n",
       "2  200389           J. Oblak                     Jan Oblak    Slovenia   27   \n",
       "3  192985       K. De Bruyne               Kevin De Bruyne     Belgium   29   \n",
       "4  190871          Neymar Jr    Neymar da Silva Santos Jr.      Brazil   28   \n",
       "\n",
       "   ova  POT                 Club     Contract   Positions  ...     A/W  \\\n",
       "0   93   93         FC Barcelona  2004 ~ 2021  RW, ST, CF  ...  Medium   \n",
       "1   92   92             Juventus  2018 ~ 2022      ST, LW  ...    High   \n",
       "2   91   93      Atlético Madrid  2014 ~ 2023          GK  ...  Medium   \n",
       "3   91   91      Manchester City  2015 ~ 2023     CAM, CM  ...    High   \n",
       "4   91   91  Paris Saint-Germain  2017 ~ 2022     LW, CAM  ...    High   \n",
       "\n",
       "      D/W IR  PAC SHO PAS DRI  DEF  PHY  Hits  \n",
       "0     Low  5   85  92  91  95   38   65   771  \n",
       "1     Low  5   89  93  81  89   35   77   562  \n",
       "2  Medium  3   87  92  78  90   52   90   150  \n",
       "3    High  4   76  86  93  88   64   78   207  \n",
       "4  Medium  5   91  85  86  94   36   59   595  \n",
       "\n",
       "[5 rows x 75 columns]"
      ]
     },
     "execution_count": 116,
     "metadata": {},
     "output_type": "execute_result"
    }
   ],
   "source": [
    "df.head()"
   ]
  },
  {
   "cell_type": "code",
   "execution_count": 117,
   "id": "728785b0",
   "metadata": {},
   "outputs": [],
   "source": [
    "# Create a new CSV file\n",
    "df.to_csv('V2_cleaned.csv', index=False)"
   ]
  }
 ],
 "metadata": {
  "kernelspec": {
   "display_name": "Python 3",
   "language": "python",
   "name": "python3"
  },
  "language_info": {
   "codemirror_mode": {
    "name": "ipython",
    "version": 3
   },
   "file_extension": ".py",
   "mimetype": "text/x-python",
   "name": "python",
   "nbconvert_exporter": "python",
   "pygments_lexer": "ipython3",
   "version": "3.13.3"
  }
 },
 "nbformat": 4,
 "nbformat_minor": 5
}
